{
 "cells": [
  {
   "cell_type": "code",
   "execution_count": 7,
   "metadata": {},
   "outputs": [
    {
     "name": "stdout",
     "output_type": "stream",
     "text": [
      "25\n"
     ]
    }
   ],
   "source": [
    "# (a+b)^2\n",
    "\n",
    "import tensorflow as tf\n",
    "\n",
    "a=2\n",
    "b=3\n",
    "\n",
    "with tf.name_scope(\"Scope_A\"):\n",
    "    a1 = tf.multiply(a, a, name=\"a_square\")\n",
    "    \n",
    "with tf.name_scope(\"Scope_B\"):\n",
    "    b1 = tf.multiply(b, b, name=\"b_square\")\n",
    "    \n",
    "with tf.name_scope(\"Scope_C\"):    \n",
    "    c = tf.multiply(a, b, name=\"Product_a_b\")\n",
    "    d = tf.multiply(2, c, name=\"Product_2_a_b\")\n",
    "    \n",
    "e = tf.add(a1, b1, name=\"Addition\")\n",
    "f = tf.add(e, d, name=\"Addition\")\n",
    "\n",
    "with tf.Session() as sess:\n",
    "    writer = tf.summary.FileWriter(\"/home/ubnatu/BVB/5th Sem/ML_LAb/ml_lab_ecsc_306/labwork/lab1/ass_1\", sess.graph)\n",
    "    print(sess.run(f))\n",
    "    writer.close()"
   ]
  },
  {
   "cell_type": "code",
   "execution_count": 2,
   "metadata": {},
   "outputs": [
    {
     "name": "stdout",
     "output_type": "stream",
     "text": [
      "37\n"
     ]
    }
   ],
   "source": [
    "# (a-b)^3\n",
    "\n",
    "import tensorflow as tf\n",
    "\n",
    "a = 3\n",
    "b = 2\n",
    "\n",
    "with tf.name_scope(\"Scope_A\"):\n",
    "    a1 = tf.multiply(a, a)\n",
    "    a2 = tf.multiply(a1, a, name=\"a_cube\")\n",
    "    \n",
    "with tf.name_scope(\"Scope_B\"):\n",
    "    b1 = tf.multiply(b, b)\n",
    "    b2 = tf.multiply(b1, b, name=\"b_cube\")\n",
    "    \n",
    "with tf.name_scope(\"Group_1\"):    \n",
    "    with tf.name_scope(\"Scope_C\"):    \n",
    "        c1 = tf.multiply(a, b, name=\"Product_a_b\")\n",
    "        c2 = tf.multiply(3, c1, name=\"Product_3_a_b\")\n",
    "    with tf.name_scope(\"Scope_D\"):    \n",
    "        d1 = tf.subtract(a, b, name=\"Subtract_a_b\")\n",
    "        d2 = tf.multiply(c2, d1, name=\"Product\")   \n",
    "        \n",
    "with tf.name_scope(\"Group_2\"):    \n",
    "    with tf.name_scope(\"Scope_E\"):    \n",
    "        e1= tf.subtract(a2, b2)\n",
    "        \n",
    "    with tf.name_scope(\"Scope_D\"):    \n",
    "        f1= tf.add(e1, d2, name=\"Result\")\n",
    "                   \n",
    "with tf.Session() as sess:\n",
    "    writer = tf.summary.FileWriter(\"/home/ubnatu/BVB/5th Sem/ML_LAb/ml_lab_ecsc_306/labwork/lab1/ass_2\", sess.graph)\n",
    "    print(sess.run(f1))\n",
    "    writer.close()"
   ]
  },
  {
   "cell_type": "code",
   "execution_count": null,
   "metadata": {
    "collapsed": true
   },
   "outputs": [],
   "source": []
  }
 ],
 "metadata": {
  "kernelspec": {
   "display_name": "Python 3",
   "language": "python",
   "name": "python3"
  }
 },
 "nbformat": 4,
 "nbformat_minor": 2
}
