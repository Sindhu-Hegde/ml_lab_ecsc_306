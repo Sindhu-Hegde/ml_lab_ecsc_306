{
 "cells": [
  {
   "cell_type": "code",
   "execution_count": 1,
   "metadata": {},
   "outputs": [
    {
     "name": "stdout",
     "output_type": "stream",
     "text": [
      "25\n"
     ]
    }
   ],
   "source": [
    "# (a+b)^2\n",
    "\n",
    "import tensorflow as tf\n",
    "\n",
    "a=2\n",
    "b=3\n",
    "\n",
    "with tf.name_scope(\"a_square\"):\n",
    "    a1 = tf.pow(a, 2)\n",
    "    \n",
    "with tf.name_scope(\"b_square\"):\n",
    "    b1 = tf.pow(b, 2)\n",
    "    \n",
    "with tf.name_scope(\"2ab\"):    \n",
    "    c = tf.multiply(2, tf.multiply(a, b))\n",
    "    \n",
    "with tf.name_scope(\"Result\"):    \n",
    "    d = tf.add(tf.add(a1, b1), c)\n",
    "\n",
    "\n",
    "with tf.Session() as sess:\n",
    "    writer = tf.summary.FileWriter(\"/tmp/tboard/ass_1\", sess.graph)\n",
    "    print(sess.run(d))\n",
    "    writer.close()"
   ]
  },
  {
   "cell_type": "code",
   "execution_count": 1,
   "metadata": {},
   "outputs": [
    {
     "name": "stdout",
     "output_type": "stream",
     "text": [
      "37\n"
     ]
    }
   ],
   "source": [
    "# (a-b)^3\n",
    "\n",
    "import tensorflow as tf\n",
    "\n",
    "a = 3\n",
    "b = 2\n",
    "\n",
    "with tf.name_scope(\"a_cube\"):\n",
    "    a1 = tf.pow(a, 3)\n",
    "    \n",
    "with tf.name_scope(\"b_cube\"):\n",
    "    b1 = tf.pow(b, 3)\n",
    "    \n",
    "with tf.name_scope(\"3ab_a_minus_b\"):    \n",
    "    with tf.name_scope(\"3ab\"):    \n",
    "        c1 = tf.multiply(3, tf.multiply(a, b))\n",
    "    with tf.name_scope(\"a_minus_b\"):    \n",
    "        d1 = tf.subtract(a, b) \n",
    "    e1 = tf.multiply(c1, d1)    \n",
    "            \n",
    "with tf.name_scope(\"a_cube_minus_b_cube\"):    \n",
    "    f1 = tf.subtract(a1, b1)\n",
    "        \n",
    "with tf.name_scope(\"Result\"):    \n",
    "    g1 = tf.add(f1, e1)\n",
    "                   \n",
    "with tf.Session() as sess:\n",
    "    writer = tf.summary.FileWriter(\"/tmp/tboard/ass_2\", sess.graph)\n",
    "    print(sess.run(g1))\n",
    "    writer.close()"
   ]
  },
  {
   "cell_type": "code",
   "execution_count": null,
   "metadata": {
    "collapsed": true
   },
   "outputs": [],
   "source": []
  }
 ],
 "metadata": {
  "kernelspec": {
   "display_name": "Python 3",
   "language": "python",
   "name": "python3"
  },
  "language_info": {
   "codemirror_mode": {
    "name": "ipython",
    "version": 3
   },
   "file_extension": ".py",
   "mimetype": "text/x-python",
   "name": "python",
   "nbconvert_exporter": "python",
   "pygments_lexer": "ipython3",
   "version": "3.6.1"
  }
 },
 "nbformat": 4,
 "nbformat_minor": 2
}
