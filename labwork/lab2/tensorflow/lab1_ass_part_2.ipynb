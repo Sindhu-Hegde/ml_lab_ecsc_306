{
 "cells": [
  {
   "cell_type": "code",
   "execution_count": null,
   "metadata": {
    "collapsed": true
   },
   "outputs": [],
   "source": [
    "#Part 1:\n",
    "import numpy as np\n",
    "import tensorflow as tf\n",
    "\n",
    "x = tf.constant([35.3, 40.7, 45.1], name='x')\n",
    "y = tf.constant([50.3, 67.2, 58.9], name='y')\n",
    "\n",
    "mean_x = 0.0\n",
    "mean_y = 0.0\n",
    "\n",
    "with tf.name_scope(\"Mean\"):\n",
    "    with tf.name_scope(\"Mean_x\"):\n",
    "        sum1 = 0.0\n",
    "        for i in range(3):\n",
    "            sum1 = tf.add(sum1, x[i])\n",
    "        mean_x = tf.divide(sum1, 3.0)    \n",
    "\n",
    "    with tf.name_scope(\"Mean_y\"):\n",
    "        sum2 = 0.0\n",
    "        for i in range(3):\n",
    "            sum2 = tf.add(sum2, y[i])\n",
    "        mean_y = tf.divide(sum2, 3.0)   \n",
    "        \n",
    "var_x = 0.0\n",
    "with tf.name_scope(\"Variance\"):\n",
    "    for i in range(3):\n",
    "        var_x = tf.add(var_x, tf.pow((tf.subtract(x[i], mean_x)), 2.0))\n",
    "\n",
    "covariance = 0.0\n",
    "with tf.name_scope(\"Covariance\"):\n",
    "    for i in range(3):\n",
    "        covariance = tf.add(covariance, tf.multiply(tf.subtract(x[i], mean_x), tf.subtract(y[i], mean_y)))\n",
    "\n",
    "c = 0.0\n",
    "m = 0.0\n",
    "with tf.name_scope(\"c\"):    \n",
    "    c = tf.divide(covariance, var_x)\n",
    "with tf.name_scope(\"m\"):\n",
    "    m = tf.subtract(mean_y, tf.multiply(c, mean_x))\n",
    "\n",
    "y1 = []\n",
    "with tf.name_scope(\"y\"):\n",
    "    for i in range(3):\n",
    "        y1.append(tf.add(tf.multiply(m, x[i]), c))   \n",
    "        \n",
    "with tf.Session() as sess:\n",
    "    writer = tf.summary.FileWriter(\"/tmp/tboard/lab1_ass_1\", sess.graph)\n",
    "    print(sess.run(y1))\n",
    "    writer.close()\n"
   ]
  },
  {
   "cell_type": "code",
   "execution_count": null,
   "metadata": {
    "collapsed": true
   },
   "outputs": [],
   "source": [
    "#Part 2:\n",
    "import matplotlib.pyplot as plt\n",
    "tf.reset_default_graph()\n",
    "\n",
    "plt.plot(y, y1)\n",
    "plt.show()\n",
    "\n",
    "rms = 0.0;\n",
    "for r in range(3):\n",
    "    rms = tf.sqrt(tf.divide(tf.add(rms, tf.pow(tf.subtract(y1, y), 2)), 3))\n",
    "    \n",
    "print (rms)  "
   ]
  }
 ],
 "metadata": {
  "kernelspec": {
   "display_name": "Python 3",
   "language": "python",
   "name": "python3"
  },
  "language_info": {
   "codemirror_mode": {
    "name": "ipython",
    "version": 3
   },
   "file_extension": ".py",
   "mimetype": "text/x-python",
   "name": "python",
   "nbconvert_exporter": "python",
   "pygments_lexer": "ipython3",
   "version": "3.6.1"
  }
 },
 "nbformat": 4,
 "nbformat_minor": 2
}
